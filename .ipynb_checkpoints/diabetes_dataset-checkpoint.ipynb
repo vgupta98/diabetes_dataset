{
 "cells": [
  {
   "cell_type": "code",
   "execution_count": 1,
   "metadata": {
    "collapsed": true
   },
   "outputs": [],
   "source": [
    "import pandas as pd\n",
    "import numpy as np\n",
    "import matplotlib.pyplot as plt\n",
    "%matplotlib inline"
   ]
  },
  {
   "cell_type": "code",
   "execution_count": 2,
   "metadata": {},
   "outputs": [
    {
     "data": {
      "text/html": [
       "<div>\n",
       "<style>\n",
       "    .dataframe thead tr:only-child th {\n",
       "        text-align: right;\n",
       "    }\n",
       "\n",
       "    .dataframe thead th {\n",
       "        text-align: left;\n",
       "    }\n",
       "\n",
       "    .dataframe tbody tr th {\n",
       "        vertical-align: top;\n",
       "    }\n",
       "</style>\n",
       "<table border=\"1\" class=\"dataframe\">\n",
       "  <thead>\n",
       "    <tr style=\"text-align: right;\">\n",
       "      <th></th>\n",
       "      <th>Pregnancies</th>\n",
       "      <th>Glucose</th>\n",
       "      <th>BloodPressure</th>\n",
       "      <th>SkinThickness</th>\n",
       "      <th>Insulin</th>\n",
       "      <th>BMI</th>\n",
       "      <th>DiabetesPedigreeFunction</th>\n",
       "      <th>Age</th>\n",
       "      <th>Outcome</th>\n",
       "    </tr>\n",
       "  </thead>\n",
       "  <tbody>\n",
       "    <tr>\n",
       "      <th>763</th>\n",
       "      <td>10</td>\n",
       "      <td>101</td>\n",
       "      <td>76</td>\n",
       "      <td>48</td>\n",
       "      <td>180</td>\n",
       "      <td>32.9</td>\n",
       "      <td>0.171</td>\n",
       "      <td>63</td>\n",
       "      <td>0</td>\n",
       "    </tr>\n",
       "    <tr>\n",
       "      <th>764</th>\n",
       "      <td>2</td>\n",
       "      <td>122</td>\n",
       "      <td>70</td>\n",
       "      <td>27</td>\n",
       "      <td>0</td>\n",
       "      <td>36.8</td>\n",
       "      <td>0.340</td>\n",
       "      <td>27</td>\n",
       "      <td>0</td>\n",
       "    </tr>\n",
       "    <tr>\n",
       "      <th>765</th>\n",
       "      <td>5</td>\n",
       "      <td>121</td>\n",
       "      <td>72</td>\n",
       "      <td>23</td>\n",
       "      <td>112</td>\n",
       "      <td>26.2</td>\n",
       "      <td>0.245</td>\n",
       "      <td>30</td>\n",
       "      <td>0</td>\n",
       "    </tr>\n",
       "    <tr>\n",
       "      <th>766</th>\n",
       "      <td>1</td>\n",
       "      <td>126</td>\n",
       "      <td>60</td>\n",
       "      <td>0</td>\n",
       "      <td>0</td>\n",
       "      <td>30.1</td>\n",
       "      <td>0.349</td>\n",
       "      <td>47</td>\n",
       "      <td>1</td>\n",
       "    </tr>\n",
       "    <tr>\n",
       "      <th>767</th>\n",
       "      <td>1</td>\n",
       "      <td>93</td>\n",
       "      <td>70</td>\n",
       "      <td>31</td>\n",
       "      <td>0</td>\n",
       "      <td>30.4</td>\n",
       "      <td>0.315</td>\n",
       "      <td>23</td>\n",
       "      <td>0</td>\n",
       "    </tr>\n",
       "  </tbody>\n",
       "</table>\n",
       "</div>"
      ],
      "text/plain": [
       "     Pregnancies  Glucose  BloodPressure  SkinThickness  Insulin   BMI  \\\n",
       "763           10      101             76             48      180  32.9   \n",
       "764            2      122             70             27        0  36.8   \n",
       "765            5      121             72             23      112  26.2   \n",
       "766            1      126             60              0        0  30.1   \n",
       "767            1       93             70             31        0  30.4   \n",
       "\n",
       "     DiabetesPedigreeFunction  Age  Outcome  \n",
       "763                     0.171   63        0  \n",
       "764                     0.340   27        0  \n",
       "765                     0.245   30        0  \n",
       "766                     0.349   47        1  \n",
       "767                     0.315   23        0  "
      ]
     },
     "execution_count": 2,
     "metadata": {},
     "output_type": "execute_result"
    }
   ],
   "source": [
    "train_data=pd.read_csv(\"F:\\\\data_science\\\\diabetes_dataset\\\\diabetes.csv\")\n",
    "train_data.tail()"
   ]
  },
  {
   "cell_type": "code",
   "execution_count": 3,
   "metadata": {},
   "outputs": [
    {
     "name": "stdout",
     "output_type": "stream",
     "text": [
      "<class 'pandas.core.frame.DataFrame'>\n",
      "RangeIndex: 768 entries, 0 to 767\n",
      "Data columns (total 9 columns):\n",
      "Pregnancies                 768 non-null int64\n",
      "Glucose                     768 non-null int64\n",
      "BloodPressure               768 non-null int64\n",
      "SkinThickness               768 non-null int64\n",
      "Insulin                     768 non-null int64\n",
      "BMI                         768 non-null float64\n",
      "DiabetesPedigreeFunction    768 non-null float64\n",
      "Age                         768 non-null int64\n",
      "Outcome                     768 non-null int64\n",
      "dtypes: float64(2), int64(7)\n",
      "memory usage: 54.1 KB\n"
     ]
    }
   ],
   "source": [
    "train_data.info()"
   ]
  },
  {
   "cell_type": "code",
   "execution_count": 4,
   "metadata": {},
   "outputs": [
    {
     "data": {
      "text/plain": [
       "(768, 9)"
      ]
     },
     "execution_count": 4,
     "metadata": {},
     "output_type": "execute_result"
    }
   ],
   "source": [
    "train_data.shape"
   ]
  },
  {
   "cell_type": "code",
   "execution_count": 5,
   "metadata": {},
   "outputs": [
    {
     "data": {
      "text/html": [
       "<div>\n",
       "<style>\n",
       "    .dataframe thead tr:only-child th {\n",
       "        text-align: right;\n",
       "    }\n",
       "\n",
       "    .dataframe thead th {\n",
       "        text-align: left;\n",
       "    }\n",
       "\n",
       "    .dataframe tbody tr th {\n",
       "        vertical-align: top;\n",
       "    }\n",
       "</style>\n",
       "<table border=\"1\" class=\"dataframe\">\n",
       "  <thead>\n",
       "    <tr style=\"text-align: right;\">\n",
       "      <th></th>\n",
       "      <th>Pregnancies</th>\n",
       "      <th>Glucose</th>\n",
       "      <th>BloodPressure</th>\n",
       "      <th>SkinThickness</th>\n",
       "      <th>Insulin</th>\n",
       "      <th>BMI</th>\n",
       "      <th>DiabetesPedigreeFunction</th>\n",
       "      <th>Age</th>\n",
       "      <th>Outcome</th>\n",
       "    </tr>\n",
       "  </thead>\n",
       "  <tbody>\n",
       "    <tr>\n",
       "      <th>count</th>\n",
       "      <td>768.000000</td>\n",
       "      <td>768.000000</td>\n",
       "      <td>768.000000</td>\n",
       "      <td>768.000000</td>\n",
       "      <td>768.000000</td>\n",
       "      <td>768.000000</td>\n",
       "      <td>768.000000</td>\n",
       "      <td>768.000000</td>\n",
       "      <td>768.000000</td>\n",
       "    </tr>\n",
       "    <tr>\n",
       "      <th>mean</th>\n",
       "      <td>3.845052</td>\n",
       "      <td>120.894531</td>\n",
       "      <td>69.105469</td>\n",
       "      <td>20.536458</td>\n",
       "      <td>79.799479</td>\n",
       "      <td>31.992578</td>\n",
       "      <td>0.471876</td>\n",
       "      <td>33.240885</td>\n",
       "      <td>0.348958</td>\n",
       "    </tr>\n",
       "    <tr>\n",
       "      <th>std</th>\n",
       "      <td>3.369578</td>\n",
       "      <td>31.972618</td>\n",
       "      <td>19.355807</td>\n",
       "      <td>15.952218</td>\n",
       "      <td>115.244002</td>\n",
       "      <td>7.884160</td>\n",
       "      <td>0.331329</td>\n",
       "      <td>11.760232</td>\n",
       "      <td>0.476951</td>\n",
       "    </tr>\n",
       "    <tr>\n",
       "      <th>min</th>\n",
       "      <td>0.000000</td>\n",
       "      <td>0.000000</td>\n",
       "      <td>0.000000</td>\n",
       "      <td>0.000000</td>\n",
       "      <td>0.000000</td>\n",
       "      <td>0.000000</td>\n",
       "      <td>0.078000</td>\n",
       "      <td>21.000000</td>\n",
       "      <td>0.000000</td>\n",
       "    </tr>\n",
       "    <tr>\n",
       "      <th>25%</th>\n",
       "      <td>1.000000</td>\n",
       "      <td>99.000000</td>\n",
       "      <td>62.000000</td>\n",
       "      <td>0.000000</td>\n",
       "      <td>0.000000</td>\n",
       "      <td>27.300000</td>\n",
       "      <td>0.243750</td>\n",
       "      <td>24.000000</td>\n",
       "      <td>0.000000</td>\n",
       "    </tr>\n",
       "    <tr>\n",
       "      <th>50%</th>\n",
       "      <td>3.000000</td>\n",
       "      <td>117.000000</td>\n",
       "      <td>72.000000</td>\n",
       "      <td>23.000000</td>\n",
       "      <td>30.500000</td>\n",
       "      <td>32.000000</td>\n",
       "      <td>0.372500</td>\n",
       "      <td>29.000000</td>\n",
       "      <td>0.000000</td>\n",
       "    </tr>\n",
       "    <tr>\n",
       "      <th>75%</th>\n",
       "      <td>6.000000</td>\n",
       "      <td>140.250000</td>\n",
       "      <td>80.000000</td>\n",
       "      <td>32.000000</td>\n",
       "      <td>127.250000</td>\n",
       "      <td>36.600000</td>\n",
       "      <td>0.626250</td>\n",
       "      <td>41.000000</td>\n",
       "      <td>1.000000</td>\n",
       "    </tr>\n",
       "    <tr>\n",
       "      <th>max</th>\n",
       "      <td>17.000000</td>\n",
       "      <td>199.000000</td>\n",
       "      <td>122.000000</td>\n",
       "      <td>99.000000</td>\n",
       "      <td>846.000000</td>\n",
       "      <td>67.100000</td>\n",
       "      <td>2.420000</td>\n",
       "      <td>81.000000</td>\n",
       "      <td>1.000000</td>\n",
       "    </tr>\n",
       "  </tbody>\n",
       "</table>\n",
       "</div>"
      ],
      "text/plain": [
       "       Pregnancies     Glucose  BloodPressure  SkinThickness     Insulin  \\\n",
       "count   768.000000  768.000000     768.000000     768.000000  768.000000   \n",
       "mean      3.845052  120.894531      69.105469      20.536458   79.799479   \n",
       "std       3.369578   31.972618      19.355807      15.952218  115.244002   \n",
       "min       0.000000    0.000000       0.000000       0.000000    0.000000   \n",
       "25%       1.000000   99.000000      62.000000       0.000000    0.000000   \n",
       "50%       3.000000  117.000000      72.000000      23.000000   30.500000   \n",
       "75%       6.000000  140.250000      80.000000      32.000000  127.250000   \n",
       "max      17.000000  199.000000     122.000000      99.000000  846.000000   \n",
       "\n",
       "              BMI  DiabetesPedigreeFunction         Age     Outcome  \n",
       "count  768.000000                768.000000  768.000000  768.000000  \n",
       "mean    31.992578                  0.471876   33.240885    0.348958  \n",
       "std      7.884160                  0.331329   11.760232    0.476951  \n",
       "min      0.000000                  0.078000   21.000000    0.000000  \n",
       "25%     27.300000                  0.243750   24.000000    0.000000  \n",
       "50%     32.000000                  0.372500   29.000000    0.000000  \n",
       "75%     36.600000                  0.626250   41.000000    1.000000  \n",
       "max     67.100000                  2.420000   81.000000    1.000000  "
      ]
     },
     "execution_count": 5,
     "metadata": {},
     "output_type": "execute_result"
    }
   ],
   "source": [
    "train_data.describe()"
   ]
  },
  {
   "cell_type": "code",
   "execution_count": 6,
   "metadata": {
    "collapsed": true
   },
   "outputs": [],
   "source": [
    "import seaborn as sns"
   ]
  },
  {
   "cell_type": "code",
   "execution_count": 7,
   "metadata": {},
   "outputs": [
    {
     "data": {
      "image/png": "[encoded data removed]",
      "text/plain": [
       "<matplotlib.figure.Figure at 0x186a0fc72e8>"
      ]
     },
     "metadata": {},
     "output_type": "display_data"
    }
   ],
   "source": [
    "corr=train_data.corr()\n",
    "plt.figure(figsize=(10, 10))\n",
    "\n",
    "sns.heatmap(corr, vmax=.8, linewidths=0.01,\n",
    "            square=True,annot=True,cmap='YlGnBu',linecolor=\"white\")\n",
    "plt.title('Correlation between features');"
   ]
  },
  {
   "cell_type": "code",
   "execution_count": 8,
   "metadata": {
    "collapsed": true
   },
   "outputs": [],
   "source": [
    "from sklearn.metrics import roc_auc_score"
   ]
  },
  {
   "cell_type": "code",
   "execution_count": 9,
   "metadata": {
    "collapsed": true
   },
   "outputs": [],
   "source": [
    "independent_variables=[x for x in train_data.columns if x not in ['Outcome']]"
   ]
  },
  {
   "cell_type": "code",
   "execution_count": 10,
   "metadata": {
    "collapsed": true
   },
   "outputs": [],
   "source": [
    "from sklearn.model_selection import train_test_split"
   ]
  },
  {
   "cell_type": "code",
   "execution_count": 11,
   "metadata": {
    "collapsed": true
   },
   "outputs": [],
   "source": [
    "X_train,X_test,y_train,y_test=train_test_split(train_data[independent_variables], train_data['Outcome'], test_size=0.25, random_state = 0)"
   ]
  },
  {
   "cell_type": "code",
   "execution_count": 12,
   "metadata": {
    "collapsed": true
   },
   "outputs": [],
   "source": [
    "from sklearn.metrics import make_scorer"
   ]
  },
  {
   "cell_type": "code",
   "execution_count": 13,
   "metadata": {
    "collapsed": true
   },
   "outputs": [],
   "source": [
    "my_scorer=make_scorer(roc_auc_score,greater_is_better=True)"
   ]
  },
  {
   "cell_type": "markdown",
   "metadata": {},
   "source": [
    "### Logistic regression"
   ]
  },
  {
   "cell_type": "code",
   "execution_count": 14,
   "metadata": {
    "collapsed": true
   },
   "outputs": [],
   "source": [
    "from sklearn.linear_model import LogisticRegression"
   ]
  },
  {
   "cell_type": "code",
   "execution_count": 15,
   "metadata": {
    "collapsed": true
   },
   "outputs": [],
   "source": [
    "from sklearn.model_selection import GridSearchCV"
   ]
  },
  {
   "cell_type": "code",
   "execution_count": 16,
   "metadata": {
    "collapsed": true
   },
   "outputs": [],
   "source": [
    "lm=LogisticRegression(random_state=0)\n",
    "params={'C':[0.001,0.1,1,10,100]}"
   ]
  },
  {
   "cell_type": "code",
   "execution_count": 17,
   "metadata": {
    "collapsed": true
   },
   "outputs": [],
   "source": [
    "g_cv=GridSearchCV(lm,param_grid=params,scoring=my_scorer,cv=5)"
   ]
  },
  {
   "cell_type": "code",
   "execution_count": 18,
   "metadata": {},
   "outputs": [
    {
     "data": {
      "text/plain": [
       "GridSearchCV(cv=5, error_score='raise',\n",
       "       estimator=LogisticRegression(C=1.0, class_weight=None, dual=False, fit_intercept=True,\n",
       "          intercept_scaling=1, max_iter=100, multi_class='ovr', n_jobs=1,\n",
       "          penalty='l2', random_state=0, solver='liblinear', tol=0.0001,\n",
       "          verbose=0, warm_start=False),\n",
       "       fit_params={}, iid=True, n_jobs=1,\n",
       "       param_grid={'C': [0.001, 0.1, 1, 10, 100]}, pre_dispatch='2*n_jobs',\n",
       "       refit=True, return_train_score=True,\n",
       "       scoring=make_scorer(roc_auc_score), verbose=0)"
      ]
     },
     "execution_count": 18,
     "metadata": {},
     "output_type": "execute_result"
    }
   ],
   "source": [
    "g_cv.fit(X_train,y_train)"
   ]
  },
  {
   "cell_type": "code",
   "execution_count": 19,
   "metadata": {},
   "outputs": [
    {
     "data": {
      "text/plain": [
       "(LogisticRegression(C=10, class_weight=None, dual=False, fit_intercept=True,\n",
       "           intercept_scaling=1, max_iter=100, multi_class='ovr', n_jobs=1,\n",
       "           penalty='l2', random_state=0, solver='liblinear', tol=0.0001,\n",
       "           verbose=0, warm_start=False), 0.71692770187434818, {'C': 10})"
      ]
     },
     "execution_count": 19,
     "metadata": {},
     "output_type": "execute_result"
    }
   ],
   "source": [
    "g_cv.best_estimator_,g_cv.best_score_,g_cv.best_params_"
   ]
  },
  {
   "cell_type": "code",
   "execution_count": 20,
   "metadata": {},
   "outputs": [
    {
     "name": "stdout",
     "output_type": "stream",
     "text": [
      "training score:0.722894253477\n",
      "test score:0.75223325062\n"
     ]
    }
   ],
   "source": [
    "lm_best=g_cv.best_estimator_\n",
    "lm_best.fit(X_train,y_train)\n",
    "print('training score:'+str(roc_auc_score(y_train,lm_best.predict(X_train))))\n",
    "print('test score:'+str(roc_auc_score(y_test,lm_best.predict(X_test))))"
   ]
  },
  {
   "cell_type": "code",
   "execution_count": 21,
   "metadata": {
    "collapsed": true
   },
   "outputs": [],
   "source": [
    "from sklearn.metrics import confusion_matrix"
   ]
  },
  {
   "cell_type": "code",
   "execution_count": 22,
   "metadata": {},
   "outputs": [
    {
     "data": {
      "text/plain": [
       "array([[118,  12],\n",
       "       [ 25,  37]])"
      ]
     },
     "execution_count": 22,
     "metadata": {},
     "output_type": "execute_result"
    }
   ],
   "source": [
    "confusion_matrix(y_test,lm_best.predict(X_test))"
   ]
  },
  {
   "cell_type": "markdown",
   "metadata": {},
   "source": [
    "#### fbeta score"
   ]
  },
  {
   "cell_type": "code",
   "execution_count": 24,
   "metadata": {
    "collapsed": true
   },
   "outputs": [],
   "source": [
    "from sklearn.metrics import fbeta_score\n",
    "fbeta_scorer=make_scorer(fbeta_score,greater_is_better=True,beta=2)"
   ]
  },
  {
   "cell_type": "code",
   "execution_count": 29,
   "metadata": {
    "collapsed": true
   },
   "outputs": [],
   "source": [
    "lm=LogisticRegression(random_state=0)\n",
    "g_cv=GridSearchCV(lm,param_grid=params,scoring=fbeta_scorer,cv=5)"
   ]
  },
  {
   "cell_type": "code",
   "execution_count": 30,
   "metadata": {},
   "outputs": [
    {
     "data": {
      "text/plain": [
       "0.58617985404186235"
      ]
     },
     "execution_count": 30,
     "metadata": {},
     "output_type": "execute_result"
    }
   ],
   "source": [
    "g_cv.fit(X_train,y_train)\n",
    "g_cv.best_score_"
   ]
  },
  {
   "cell_type": "code",
   "execution_count": 31,
   "metadata": {},
   "outputs": [
    {
     "data": {
      "text/plain": [
       "{'mean_fit_time': array([ 0.00478034,  0.00719919,  0.00719991,  0.00865097,  0.01249933]),\n",
       " 'mean_score_time': array([ 0.00080037,  0.00240054,  0.00320005,  0.00159969,  0.        ]),\n",
       " 'mean_test_score': array([ 0.28190607,  0.42996483,  0.57346572,  0.58604426,  0.58617985]),\n",
       " 'mean_train_score': array([ 0.3152858 ,  0.43814514,  0.57298575,  0.60207987,  0.60161935]),\n",
       " 'param_C': masked_array(data = [0.001 0.1 1 10 100],\n",
       "              mask = [False False False False False],\n",
       "        fill_value = ?),\n",
       " 'params': ({'C': 0.001}, {'C': 0.1}, {'C': 1}, {'C': 10}, {'C': 100}),\n",
       " 'rank_test_score': array([5, 4, 3, 2, 1]),\n",
       " 'split0_test_score': array([ 0.29255319,  0.36842105,  0.52083333,  0.4973822 ,  0.49479167]),\n",
       " 'split0_train_score': array([ 0.29331514,  0.44312169,  0.58035714,  0.59974747,  0.59974747]),\n",
       " 'split1_test_score': array([ 0.36842105,  0.51020408,  0.68292683,  0.66502463,  0.66831683]),\n",
       " 'split1_train_score': array([ 0.33875339,  0.42819499,  0.5648267 ,  0.58860759,  0.58227848]),\n",
       " 'split2_test_score': array([ 0.27932961,  0.4787234 ,  0.58375635,  0.57788945,  0.57788945]),\n",
       " 'split2_train_score': array([ 0.26639344,  0.42440318,  0.57544757,  0.61557789,  0.61480552]),\n",
       " 'split3_test_score': array([ 0.27027027,  0.41666667,  0.52763819,  0.5721393 ,  0.5721393 ]),\n",
       " 'split3_train_score': array([ 0.36715621,  0.49870466,  0.59872611,  0.63051702,  0.62972292]),\n",
       " 'split4_test_score': array([ 0.19886364,  0.37634409,  0.55263158,  0.6185567 ,  0.6185567 ]),\n",
       " 'split4_train_score': array([ 0.31081081,  0.39630119,  0.54557125,  0.57594937,  0.58154235]),\n",
       " 'std_fit_time': array([ 0.00573174,  0.0016007 ,  0.00299214,  0.00569534,  0.00624967]),\n",
       " 'std_score_time': array([ 0.00160074,  0.00196003,  0.00160003,  0.00195922,  0.        ]),\n",
       " 'std_test_score': array([ 0.05405895,  0.05596623,  0.05896758,  0.05560079,  0.05736971]),\n",
       " 'std_train_score': array([ 0.03502703,  0.03385553,  0.01755614,  0.01929048,  0.01867803])}"
      ]
     },
     "execution_count": 31,
     "metadata": {},
     "output_type": "execute_result"
    }
   ],
   "source": [
    "g_cv.cv_results_"
   ]
  },
  {
   "cell_type": "code",
   "execution_count": 35,
   "metadata": {},
   "outputs": [
    {
     "name": "stdout",
     "output_type": "stream",
     "text": [
      "training score:0.600403632694\n",
      "test score:0.608108108108\n"
     ]
    }
   ],
   "source": [
    "lm_best=g_cv.best_estimator_\n",
    "lm_best.fit(X_train,y_train)\n",
    "print('training score:'+str(fbeta_score(y_train,lm_best.predict(X_train),beta=2)))\n",
    "print('test score:'+str(fbeta_score(y_test,lm_best.predict(X_test),beta=2)))"
   ]
  },
  {
   "cell_type": "code",
   "execution_count": 34,
   "metadata": {},
   "outputs": [
    {
     "data": {
      "text/plain": [
       "array([[118,  12],\n",
       "       [ 26,  36]])"
      ]
     },
     "execution_count": 34,
     "metadata": {},
     "output_type": "execute_result"
    }
   ],
   "source": [
    "confusion_matrix(y_test,lm_best.predict(X_test))"
   ]
  },
  {
   "cell_type": "code",
   "execution_count": 36,
   "metadata": {},
   "outputs": [
    {
     "name": "stdout",
     "output_type": "stream",
     "text": [
      "training score:0.600403632694\n",
      "test score:0.608108108108\n"
     ]
    }
   ],
   "source": [
    "lm1=LogisticRegression(C=1000)\n",
    "lm1.fit(X_train,y_train)\n",
    "print('training score:'+str(fbeta_score(y_train,lm_best.predict(X_train),beta=2)))\n",
    "print('test score:'+str(fbeta_score(y_test,lm_best.predict(X_test),beta=2)))"
   ]
  },
  {
   "cell_type": "markdown",
   "metadata": {},
   "source": [
    "### K-nearest neighbours"
   ]
  },
  {
   "cell_type": "code",
   "execution_count": 40,
   "metadata": {
    "collapsed": true
   },
   "outputs": [],
   "source": [
    "from sklearn.neighbors import KNeighborsClassifier"
   ]
  },
  {
   "cell_type": "code",
   "execution_count": 41,
   "metadata": {
    "collapsed": true
   },
   "outputs": [],
   "source": [
    "params={'n_neighbors':[1,2,4,7,10]}\n",
    "knn=KNeighborsClassifier()\n",
    "g_cv=GridSearchCV(knn,param_grid=params,cv=5,scoring=my_scorer)"
   ]
  },
  {
   "cell_type": "code",
   "execution_count": 42,
   "metadata": {},
   "outputs": [
    {
     "data": {
      "text/plain": [
       "{'mean_fit_time': array([ 0.02820764,  0.00160022,  0.        ,  0.00312519,  0.        ]),\n",
       " 'mean_score_time': array([ 0.00320044,  0.00240002,  0.00159903,  0.00312195,  0.00312514]),\n",
       " 'mean_test_score': array([ 0.65714191,  0.61283508,  0.63334575,  0.69400112,  0.65839698]),\n",
       " 'mean_train_score': array([ 1.        ,  0.76760532,  0.72812494,  0.74554234,  0.7174161 ]),\n",
       " 'param_n_neighbors': masked_array(data = [1 2 4 7 10],\n",
       "              mask = [False False False False False],\n",
       "        fill_value = ?),\n",
       " 'params': ({'n_neighbors': 1},\n",
       "  {'n_neighbors': 2},\n",
       "  {'n_neighbors': 4},\n",
       "  {'n_neighbors': 7},\n",
       "  {'n_neighbors': 10}),\n",
       " 'rank_test_score': array([3, 5, 4, 1, 2]),\n",
       " 'split0_test_score': array([ 0.63674389,  0.58011583,  0.5971686 ,  0.65508366,  0.61422136]),\n",
       " 'split0_train_score': array([ 1.        ,  0.77439024,  0.74192485,  0.73796968,  0.73146012]),\n",
       " 'split1_test_score': array([ 0.74291365,  0.65194463,  0.6872116 ,  0.72923533,  0.67501648]),\n",
       " 'split1_train_score': array([ 1.        ,  0.76060606,  0.73526822,  0.75836405,  0.70625512]),\n",
       " 'split2_test_score': array([ 0.66430455,  0.62211602,  0.61404087,  0.74686882,  0.72643375]),\n",
       " 'split2_train_score': array([ 1.        ,  0.77272727,  0.7170864 ,  0.72537879,  0.68737715]),\n",
       " 'split3_test_score': array([ 0.64271589,  0.60448253,  0.6086025 ,  0.62903757,  0.62079763]),\n",
       " 'split3_train_score': array([ 1.        ,  0.76363636,  0.73765356,  0.76680999,  0.74699017]),\n",
       " 'split4_test_score': array([ 0.59920897,  0.60580092,  0.66001978,  0.71011866,  0.6558998 ]),\n",
       " 'split4_train_score': array([ 1.        ,  0.76666667,  0.70869165,  0.73918919,  0.71499795]),\n",
       " 'std_fit_time': array([ 0.05443548,  0.00195986,  0.        ,  0.00625038,  0.        ]),\n",
       " 'std_score_time': array([ 0.00160022,  0.00195961,  0.0019584 ,  0.0062439 ,  0.00625029]),\n",
       " 'std_test_score': array([ 0.0476914 ,  0.02370615,  0.03437392,  0.04478121,  0.04069205]),\n",
       " 'std_train_score': array([ 0.        ,  0.00525153,  0.01289776,  0.01497321,  0.0205164 ])}"
      ]
     },
     "execution_count": 42,
     "metadata": {},
     "output_type": "execute_result"
    }
   ],
   "source": [
    "g_cv.fit(X_train,y_train)\n",
    "g_cv.cv_results_"
   ]
  },
  {
   "cell_type": "code",
   "execution_count": 43,
   "metadata": {},
   "outputs": [
    {
     "data": {
      "text/plain": [
       "KNeighborsClassifier(algorithm='auto', leaf_size=30, metric='minkowski',\n",
       "           metric_params=None, n_jobs=1, n_neighbors=7, p=2,\n",
       "           weights='uniform')"
      ]
     },
     "execution_count": 43,
     "metadata": {},
     "output_type": "execute_result"
    }
   ],
   "source": [
    "g_cv.best_estimator_"
   ]
  },
  {
   "cell_type": "code",
   "execution_count": 45,
   "metadata": {},
   "outputs": [
    {
     "name": "stdout",
     "output_type": "stream",
     "text": [
      "traning score:0.74123589609\n",
      "test_score:0.709181141439\n"
     ]
    }
   ],
   "source": [
    "knn_best=g_cv.best_estimator_\n",
    "knn_best.fit(X_train,y_train)\n",
    "print('traning score:'+str(roc_auc_score(y_train,knn_best.predict(X_train))))\n",
    "print('test_score:'+str(roc_auc_score(y_test,knn_best.predict(X_test))))"
   ]
  },
  {
   "cell_type": "code",
   "execution_count": 47,
   "metadata": {},
   "outputs": [
    {
     "data": {
      "text/plain": [
       "array([[111,  19],\n",
       "       [ 27,  35]])"
      ]
     },
     "execution_count": 47,
     "metadata": {},
     "output_type": "execute_result"
    }
   ],
   "source": [
    "confusion_matrix(y_test,knn_best.predict(X_test))"
   ]
  },
  {
   "cell_type": "markdown",
   "metadata": {},
   "source": [
    "#### fbeta score"
   ]
  },
  {
   "cell_type": "code",
   "execution_count": 46,
   "metadata": {
    "collapsed": true
   },
   "outputs": [],
   "source": [
    "knn=KNeighborsClassifier()\n",
    "g_cv=GridSearchCV(knn,param_grid=params,cv=5,scoring=fbeta_scorer)"
   ]
  },
  {
   "cell_type": "code",
   "execution_count": 48,
   "metadata": {},
   "outputs": [
    {
     "data": {
      "text/plain": [
       "{'mean_fit_time': array([ 0.00312386,  0.00472584,  0.00320058,  0.00160065,  0.00240035]),\n",
       " 'mean_score_time': array([ 0.00625105,  0.00552478,  0.00240011,  0.00240021,  0.00240088]),\n",
       " 'mean_test_score': array([ 0.56219454,  0.35927289,  0.42338348,  0.55766548,  0.45960846]),\n",
       " 'mean_train_score': array([ 1.        ,  0.59003786,  0.54496985,  0.63486579,  0.55664555]),\n",
       " 'param_n_neighbors': masked_array(data = [1 2 4 7 10],\n",
       "              mask = [False False False False False],\n",
       "        fill_value = ?),\n",
       " 'params': ({'n_neighbors': 1},\n",
       "  {'n_neighbors': 2},\n",
       "  {'n_neighbors': 4},\n",
       "  {'n_neighbors': 7},\n",
       "  {'n_neighbors': 10}),\n",
       " 'rank_test_score': array([1, 5, 4, 2, 3]),\n",
       " 'split0_test_score': array([ 0.49261084,  0.24861878,  0.29891304,  0.44270833,  0.34759358]),\n",
       " 'split0_train_score': array([ 1.        ,  0.60321716,  0.57029178,  0.62025316,  0.57011796]),\n",
       " 'split1_test_score': array([ 0.72093023,  0.46875   ,  0.55555556,  0.64039409,  0.53299492]),\n",
       " 'split1_train_score': array([ 1.        ,  0.57640751,  0.56504599,  0.66377171,  0.5345502 ]),\n",
       " 'split2_test_score': array([ 0.57971014,  0.39893617,  0.41666667,  0.67961165,  0.58974359]),\n",
       " 'split2_train_score': array([ 1.        ,  0.6       ,  0.52980132,  0.59974747,  0.50847458]),\n",
       " 'split3_test_score': array([ 0.58685446,  0.35135135,  0.39473684,  0.49751244,  0.41884817]),\n",
       " 'split3_train_score': array([ 1.        ,  0.58232932,  0.55702918,  0.66791511,  0.61381074]),\n",
       " 'split4_test_score': array([ 0.43147208,  0.32967033,  0.45212766,  0.52910053,  0.40983607]),\n",
       " 'split4_train_score': array([ 1.        ,  0.58823529,  0.50268097,  0.62264151,  0.55627426]),\n",
       " 'std_fit_time': array([ 0.00624771,  0.00573596,  0.00160029,  0.00196038,  0.00195988]),\n",
       " 'std_score_time': array([ 0.00765594,  0.00528298,  0.00195968,  0.00195976,  0.00196031]),\n",
       " 'std_test_score': array([ 0.09798041,  0.0732143 ,  0.08334104,  0.08878148,  0.08837188]),\n",
       " 'std_train_score': array([ 0.        ,  0.01021171,  0.02533027,  0.02654832,  0.03537838])}"
      ]
     },
     "execution_count": 48,
     "metadata": {},
     "output_type": "execute_result"
    }
   ],
   "source": [
    "g_cv.fit(X_train,y_train)\n",
    "g_cv.cv_results_"
   ]
  },
  {
   "cell_type": "code",
   "execution_count": 49,
   "metadata": {},
   "outputs": [
    {
     "name": "stdout",
     "output_type": "stream",
     "text": [
      "traning score:1.0\n",
      "test_score:0.418006430868\n"
     ]
    }
   ],
   "source": [
    "knn_best=g_cv.best_estimator_\n",
    "knn_best.fit(X_train,y_train)\n",
    "print('traning score:'+str(fbeta_score(y_train,knn_best.predict(X_train),beta=2)))\n",
    "print('test_score:'+str(fbeta_score(y_test,knn_best.predict(X_test),beta=2)))"
   ]
  },
  {
   "cell_type": "code",
   "execution_count": 50,
   "metadata": {},
   "outputs": [
    {
     "data": {
      "text/plain": [
       "array([[93, 37],\n",
       "       [36, 26]])"
      ]
     },
     "execution_count": 50,
     "metadata": {},
     "output_type": "execute_result"
    }
   ],
   "source": [
    "confusion_matrix(y_test,knn_best.predict(X_test))"
   ]
  },
  {
   "cell_type": "code",
   "execution_count": 52,
   "metadata": {},
   "outputs": [
    {
     "data": {
      "text/plain": [
       "array([[370,   0],\n",
       "       [  0, 206]])"
      ]
     },
     "execution_count": 52,
     "metadata": {},
     "output_type": "execute_result"
    }
   ],
   "source": [
    "confusion_matrix(y_train,knn_best.predict(X_train))"
   ]
  },
  {
   "cell_type": "markdown",
   "metadata": {},
   "source": [
    "### support vector machine"
   ]
  },
  {
   "cell_type": "code",
   "execution_count": 51,
   "metadata": {
    "collapsed": true
   },
   "outputs": [],
   "source": [
    "from sklearn.svm import SVC"
   ]
  },
  {
   "cell_type": "code",
   "execution_count": null,
   "metadata": {
    "collapsed": true
   },
   "outputs": [],
   "source": [
    "def fit_g_cv(estimator,params,X_train,y_train,scorer=None):\n",
    "    g_cv=GridSearchCV(estimator,param_grid=params,scoring=scorer,cv=5)\n",
    "    g_cv.fit(X_train,y_train)\n",
    "    fig,ax=plt.subplots(figsize=(9,7))\n",
    "    ax.plot()"
   ]
  },
  {
   "cell_type": "code",
   "execution_count": 60,
   "metadata": {
    "collapsed": true
   },
   "outputs": [],
   "source": [
    "sv_model=SVC(kernel='rbf',random_state=0)\n",
    "params={'C':[0.01,0.1,1,10],'gamma':[0.0001,0.0002,0.0003,'auto']}\n",
    "g_cv=GridSearchCV(sv_model,param_grid=params,cv=5,scoring=my_scorer)"
   ]
  },
  {
   "cell_type": "code",
   "execution_count": 61,
   "metadata": {},
   "outputs": [
    {
     "data": {
      "text/plain": [
       "{'mean_fit_time': array([ 0.00624995,  0.00987663,  0.0097753 ,  0.02116666,  0.008605  ,\n",
       "         0.00890603,  0.00880604,  0.02291927,  0.00820513,  0.0089057 ,\n",
       "         0.00920568,  0.02351646,  0.01030698,  0.01160803,  0.01200151,\n",
       "         0.03148508]),\n",
       " 'mean_score_time': array([ 0.00947928,  0.        ,  0.00312476,  0.00420361,  0.00210252,\n",
       "         0.00210209,  0.0023026 ,  0.00520372,  0.00210276,  0.00200253,\n",
       "         0.00210285,  0.00530682,  0.00210547,  0.00199609,  0.00160494,\n",
       "         0.00522995]),\n",
       " 'mean_test_score': array([ 0.5       ,  0.5       ,  0.5       ,  0.5       ,  0.5910194 ,\n",
       "         0.60666489,  0.58641304,  0.5       ,  0.69026132,  0.6899981 ,\n",
       "         0.68465111,  0.5       ,  0.6832275 ,  0.66726747,  0.6734955 ,\n",
       "         0.5       ]),\n",
       " 'mean_train_score': array([ 0.5       ,  0.5       ,  0.5       ,  0.5       ,  0.60429446,\n",
       "         0.62632234,  0.60321048,  0.5       ,  0.70945661,  0.72011596,\n",
       "         0.7324571 ,  1.        ,  0.75256367,  0.78917965,  0.8217592 ,  1.        ]),\n",
       " 'param_C': masked_array(data = [0.01 0.01 0.01 0.01 0.1 0.1 0.1 0.1 1 1 1 1 10 10 10 10],\n",
       "              mask = [False False False False False False False False False False False False\n",
       "  False False False False],\n",
       "        fill_value = ?),\n",
       " 'param_gamma': masked_array(data = [0.0001 0.0002 0.0003 'auto' 0.0001 0.0002 0.0003 'auto' 0.0001 0.0002\n",
       "  0.0003 'auto' 0.0001 0.0002 0.0003 'auto'],\n",
       "              mask = [False False False False False False False False False False False False\n",
       "  False False False False],\n",
       "        fill_value = ?),\n",
       " 'params': ({'C': 0.01, 'gamma': 0.0001},\n",
       "  {'C': 0.01, 'gamma': 0.0002},\n",
       "  {'C': 0.01, 'gamma': 0.0003},\n",
       "  {'C': 0.01, 'gamma': 'auto'},\n",
       "  {'C': 0.1, 'gamma': 0.0001},\n",
       "  {'C': 0.1, 'gamma': 0.0002},\n",
       "  {'C': 0.1, 'gamma': 0.0003},\n",
       "  {'C': 0.1, 'gamma': 'auto'},\n",
       "  {'C': 1, 'gamma': 0.0001},\n",
       "  {'C': 1, 'gamma': 0.0002},\n",
       "  {'C': 1, 'gamma': 0.0003},\n",
       "  {'C': 1, 'gamma': 'auto'},\n",
       "  {'C': 10, 'gamma': 0.0001},\n",
       "  {'C': 10, 'gamma': 0.0002},\n",
       "  {'C': 10, 'gamma': 0.0003},\n",
       "  {'C': 10, 'gamma': 'auto'}),\n",
       " 'rank_test_score': array([10, 10, 10, 10,  8,  7,  9, 10,  1,  2,  3, 10,  4,  6,  5, 10]),\n",
       " 'split0_test_score': array([ 0.5       ,  0.5       ,  0.5       ,  0.5       ,  0.55952381,\n",
       "         0.56467181,  0.55952381,  0.5       ,  0.6515444 ,  0.6515444 ,\n",
       "         0.6463964 ,  0.5       ,  0.67020592,  0.64993565,  0.63642214,\n",
       "         0.5       ]),\n",
       " 'split0_train_score': array([ 0.5       ,  0.5       ,  0.5       ,  0.5       ,  0.62063283,\n",
       "         0.6247116 ,  0.61148649,  0.5       ,  0.71386783,  0.72742254,\n",
       "         0.73994726,  1.        ,  0.7653675 ,  0.80125247,  0.84154581,  1.        ]),\n",
       " 'split1_test_score': array([ 0.5       ,  0.5       ,  0.5       ,  0.5       ,  0.59624258,\n",
       "         0.58948583,  0.56509558,  0.5       ,  0.74274885,  0.75494397,\n",
       "         0.76038233,  0.5       ,  0.74818721,  0.72923533,  0.7496704 ,\n",
       "         0.5       ]),\n",
       " 'split1_train_score': array([ 0.5       ,  0.5       ,  0.5       ,  0.5       ,  0.57069001,\n",
       "         0.60804668,  0.58549345,  0.5       ,  0.69716421,  0.71365684,\n",
       "         0.72915643,  1.        ,  0.73690622,  0.78608722,  0.82175471,  1.        ]),\n",
       " 'split2_test_score': array([ 0.5       ,  0.5       ,  0.5       ,  0.5       ,  0.59080422,\n",
       "         0.61387607,  0.59080422,  0.5       ,  0.70880026,  0.69528675,\n",
       "         0.68177324,  0.5       ,  0.68045485,  0.64798945,  0.66694133,\n",
       "         0.5       ]),\n",
       " 'split2_train_score': array([ 0.5       ,  0.5       ,  0.5       ,  0.5       ,  0.58246314,\n",
       "         0.61375921,  0.58211507,  0.5       ,  0.71633907,  0.72105856,\n",
       "         0.73924038,  1.        ,  0.7604525 ,  0.7911036 ,  0.81872441,  1.        ]),\n",
       " 'split3_test_score': array([ 0.5       ,  0.5       ,  0.5       ,  0.5       ,  0.60580092,\n",
       "         0.63150956,  0.61931444,  0.5       ,  0.66957811,  0.68177324,\n",
       "         0.67501648,  0.5       ,  0.64930784,  0.64798945,  0.66694133,\n",
       "         0.5       ]),\n",
       " 'split3_train_score': array([ 0.5       ,  0.5       ,  0.5       ,  0.5       ,  0.66085176,\n",
       "         0.66492629,  0.63934275,  0.5       ,  0.70794431,  0.72309582,\n",
       "         0.7295045 ,  1.        ,  0.75543612,  0.79348894,  0.8248362 ,  1.        ]),\n",
       " 'split4_test_score': array([ 0.5       ,  0.5       ,  0.5       ,  0.5       ,  0.60299934,\n",
       "         0.63414634,  0.59756098,  0.5       ,  0.67897165,  0.66677653,\n",
       "         0.66001978,  0.5       ,  0.66809492,  0.66133817,  0.64782465,\n",
       "         0.5       ]),\n",
       " 'split4_train_score': array([ 0.5       ,  0.5       ,  0.5       ,  0.5       ,  0.58683456,\n",
       "         0.6201679 ,  0.59761466,  0.5       ,  0.71196765,  0.71534603,\n",
       "         0.72443694,  1.        ,  0.74465602,  0.77396601,  0.80193489,  1.        ]),\n",
       " 'std_fit_time': array([ 0.0076546 ,  0.00709153,  0.00719211,  0.00283491,  0.00020027,\n",
       "         0.00020034,  0.00024561,  0.0002017 ,  0.00024532,  0.0002003 ,\n",
       "         0.0002452 ,  0.00044761,  0.0003922 ,  0.00049039,  0.00054686,\n",
       "         0.01229496]),\n",
       " 'std_score_time': array([  7.74197758e-03,   0.00000000e+00,   6.24952316e-03,\n",
       "          2.11372999e-03,   2.00083315e-04,   2.00414743e-04,\n",
       "          2.45340174e-04,   2.45379169e-04,   2.00319602e-04,\n",
       "          5.30983387e-07,   2.00271720e-04,   2.41700501e-04,\n",
       "          1.99072461e-04,   7.44446503e-06,   8.02490653e-04,\n",
       "          5.70736769e-03]),\n",
       " 'std_test_score': array([ 0.        ,  0.        ,  0.        ,  0.        ,  0.01665848,\n",
       "         0.02642835,  0.02193458,  0.        ,  0.03211526,  0.03559032,\n",
       "         0.03976287,  0.        ,  0.03396467,  0.03134618,  0.03979983,  0.        ]),\n",
       " 'std_train_score': array([ 0.        ,  0.        ,  0.        ,  0.        ,  0.03279141,\n",
       "         0.02011253,  0.02080508,  0.        ,  0.00673086,  0.00505226,\n",
       "         0.00610001,  0.        ,  0.01041258,  0.00904481,  0.01267432,  0.        ])}"
      ]
     },
     "execution_count": 61,
     "metadata": {},
     "output_type": "execute_result"
    }
   ],
   "source": [
    "g_cv.fit(X_train,y_train)\n",
    "g_cv.cv_results_"
   ]
  },
  {
   "cell_type": "code",
   "execution_count": 62,
   "metadata": {},
   "outputs": [
    {
     "data": {
      "text/plain": [
       "SVC(C=1, cache_size=200, class_weight=None, coef0=0.0,\n",
       "  decision_function_shape=None, degree=3, gamma=0.0001, kernel='rbf',\n",
       "  max_iter=-1, probability=False, random_state=0, shrinking=True,\n",
       "  tol=0.001, verbose=False)"
      ]
     },
     "execution_count": 62,
     "metadata": {},
     "output_type": "execute_result"
    }
   ],
   "source": [
    "g_cv.best_estimator_"
   ]
  },
  {
   "cell_type": "code",
   "execution_count": 63,
   "metadata": {},
   "outputs": [
    {
     "name": "stdout",
     "output_type": "stream",
     "text": [
      "training score:0.698924166885\n",
      "test score:0.72382133995\n"
     ]
    }
   ],
   "source": [
    "svm_best=g_cv.best_estimator_\n",
    "svm_best.fit(X_train,y_train)\n",
    "print('training score:'+str(roc_auc_score(y_train,svm_best.predict(X_train))))\n",
    "print('test score:'+str(roc_auc_score(y_test,svm_best.predict(X_test))))"
   ]
  },
  {
   "cell_type": "code",
   "execution_count": 64,
   "metadata": {},
   "outputs": [
    {
     "data": {
      "text/plain": [
       "array([[119,  11],\n",
       "       [ 29,  33]])"
      ]
     },
     "execution_count": 64,
     "metadata": {},
     "output_type": "execute_result"
    }
   ],
   "source": [
    "confusion_matrix(y_test,svm_best.predict(X_test))"
   ]
  },
  {
   "cell_type": "markdown",
   "metadata": {},
   "source": [
    "#### fbeta score"
   ]
  },
  {
   "cell_type": "code",
   "execution_count": 65,
   "metadata": {
    "collapsed": true
   },
   "outputs": [],
   "source": [
    "svm_model=SVC(kernel='rbf',random_state=0)\n",
    "g_cv=GridSearchCV(sv_model,param_grid=params,cv=5,scoring=fbeta_scorer)"
   ]
  },
  {
   "cell_type": "code",
   "execution_count": 66,
   "metadata": {
    "scrolled": true
   },
   "outputs": [
    {
     "name": "stderr",
     "output_type": "stream",
     "text": [
      "C:\\Users\\user\\Anaconda2\\envs\\py35\\lib\\site-packages\\sklearn\\metrics\\classification.py:1113: UndefinedMetricWarning: F-score is ill-defined and being set to 0.0 due to no predicted samples.\n",
      "  'precision', 'predicted', average, warn_for)\n",
      "C:\\Users\\user\\Anaconda2\\envs\\py35\\lib\\site-packages\\sklearn\\metrics\\classification.py:1113: UndefinedMetricWarning: F-score is ill-defined and being set to 0.0 due to no predicted samples.\n",
      "  'precision', 'predicted', average, warn_for)\n",
      "C:\\Users\\user\\Anaconda2\\envs\\py35\\lib\\site-packages\\sklearn\\metrics\\classification.py:1113: UndefinedMetricWarning: F-score is ill-defined and being set to 0.0 due to no predicted samples.\n",
      "  'precision', 'predicted', average, warn_for)\n",
      "C:\\Users\\user\\Anaconda2\\envs\\py35\\lib\\site-packages\\sklearn\\metrics\\classification.py:1113: UndefinedMetricWarning: F-score is ill-defined and being set to 0.0 due to no predicted samples.\n",
      "  'precision', 'predicted', average, warn_for)\n",
      "C:\\Users\\user\\Anaconda2\\envs\\py35\\lib\\site-packages\\sklearn\\metrics\\classification.py:1113: UndefinedMetricWarning: F-score is ill-defined and being set to 0.0 due to no predicted samples.\n",
      "  'precision', 'predicted', average, warn_for)\n",
      "C:\\Users\\user\\Anaconda2\\envs\\py35\\lib\\site-packages\\sklearn\\metrics\\classification.py:1113: UndefinedMetricWarning: F-score is ill-defined and being set to 0.0 due to no predicted samples.\n",
      "  'precision', 'predicted', average, warn_for)\n",
      "C:\\Users\\user\\Anaconda2\\envs\\py35\\lib\\site-packages\\sklearn\\metrics\\classification.py:1113: UndefinedMetricWarning: F-score is ill-defined and being set to 0.0 due to no predicted samples.\n",
      "  'precision', 'predicted', average, warn_for)\n",
      "C:\\Users\\user\\Anaconda2\\envs\\py35\\lib\\site-packages\\sklearn\\metrics\\classification.py:1113: UndefinedMetricWarning: F-score is ill-defined and being set to 0.0 due to no predicted samples.\n",
      "  'precision', 'predicted', average, warn_for)\n",
      "C:\\Users\\user\\Anaconda2\\envs\\py35\\lib\\site-packages\\sklearn\\metrics\\classification.py:1113: UndefinedMetricWarning: F-score is ill-defined and being set to 0.0 due to no predicted samples.\n",
      "  'precision', 'predicted', average, warn_for)\n",
      "C:\\Users\\user\\Anaconda2\\envs\\py35\\lib\\site-packages\\sklearn\\metrics\\classification.py:1113: UndefinedMetricWarning: F-score is ill-defined and being set to 0.0 due to no predicted samples.\n",
      "  'precision', 'predicted', average, warn_for)\n",
      "C:\\Users\\user\\Anaconda2\\envs\\py35\\lib\\site-packages\\sklearn\\metrics\\classification.py:1113: UndefinedMetricWarning: F-score is ill-defined and being set to 0.0 due to no predicted samples.\n",
      "  'precision', 'predicted', average, warn_for)\n",
      "C:\\Users\\user\\Anaconda2\\envs\\py35\\lib\\site-packages\\sklearn\\metrics\\classification.py:1113: UndefinedMetricWarning: F-score is ill-defined and being set to 0.0 due to no predicted samples.\n",
      "  'precision', 'predicted', average, warn_for)\n",
      "C:\\Users\\user\\Anaconda2\\envs\\py35\\lib\\site-packages\\sklearn\\metrics\\classification.py:1113: UndefinedMetricWarning: F-score is ill-defined and being set to 0.0 due to no predicted samples.\n",
      "  'precision', 'predicted', average, warn_for)\n",
      "C:\\Users\\user\\Anaconda2\\envs\\py35\\lib\\site-packages\\sklearn\\metrics\\classification.py:1113: UndefinedMetricWarning: F-score is ill-defined and being set to 0.0 due to no predicted samples.\n",
      "  'precision', 'predicted', average, warn_for)\n",
      "C:\\Users\\user\\Anaconda2\\envs\\py35\\lib\\site-packages\\sklearn\\metrics\\classification.py:1113: UndefinedMetricWarning: F-score is ill-defined and being set to 0.0 due to no predicted samples.\n",
      "  'precision', 'predicted', average, warn_for)\n",
      "C:\\Users\\user\\Anaconda2\\envs\\py35\\lib\\site-packages\\sklearn\\metrics\\classification.py:1113: UndefinedMetricWarning: F-score is ill-defined and being set to 0.0 due to no predicted samples.\n",
      "  'precision', 'predicted', average, warn_for)\n",
      "C:\\Users\\user\\Anaconda2\\envs\\py35\\lib\\site-packages\\sklearn\\metrics\\classification.py:1113: UndefinedMetricWarning: F-score is ill-defined and being set to 0.0 due to no predicted samples.\n",
      "  'precision', 'predicted', average, warn_for)\n",
      "C:\\Users\\user\\Anaconda2\\envs\\py35\\lib\\site-packages\\sklearn\\metrics\\classification.py:1113: UndefinedMetricWarning: F-score is ill-defined and being set to 0.0 due to no predicted samples.\n",
      "  'precision', 'predicted', average, warn_for)\n",
      "C:\\Users\\user\\Anaconda2\\envs\\py35\\lib\\site-packages\\sklearn\\metrics\\classification.py:1113: UndefinedMetricWarning: F-score is ill-defined and being set to 0.0 due to no predicted samples.\n",
      "  'precision', 'predicted', average, warn_for)\n",
      "C:\\Users\\user\\Anaconda2\\envs\\py35\\lib\\site-packages\\sklearn\\metrics\\classification.py:1113: UndefinedMetricWarning: F-score is ill-defined and being set to 0.0 due to no predicted samples.\n",
      "  'precision', 'predicted', average, warn_for)\n",
      "C:\\Users\\user\\Anaconda2\\envs\\py35\\lib\\site-packages\\sklearn\\metrics\\classification.py:1113: UndefinedMetricWarning: F-score is ill-defined and being set to 0.0 due to no predicted samples.\n",
      "  'precision', 'predicted', average, warn_for)\n",
      "C:\\Users\\user\\Anaconda2\\envs\\py35\\lib\\site-packages\\sklearn\\metrics\\classification.py:1113: UndefinedMetricWarning: F-score is ill-defined and being set to 0.0 due to no predicted samples.\n",
      "  'precision', 'predicted', average, warn_for)\n",
      "C:\\Users\\user\\Anaconda2\\envs\\py35\\lib\\site-packages\\sklearn\\metrics\\classification.py:1113: UndefinedMetricWarning: F-score is ill-defined and being set to 0.0 due to no predicted samples.\n",
      "  'precision', 'predicted', average, warn_for)\n",
      "C:\\Users\\user\\Anaconda2\\envs\\py35\\lib\\site-packages\\sklearn\\metrics\\classification.py:1113: UndefinedMetricWarning: F-score is ill-defined and being set to 0.0 due to no predicted samples.\n",
      "  'precision', 'predicted', average, warn_for)\n",
      "C:\\Users\\user\\Anaconda2\\envs\\py35\\lib\\site-packages\\sklearn\\metrics\\classification.py:1113: UndefinedMetricWarning: F-score is ill-defined and being set to 0.0 due to no predicted samples.\n",
      "  'precision', 'predicted', average, warn_for)\n",
      "C:\\Users\\user\\Anaconda2\\envs\\py35\\lib\\site-packages\\sklearn\\metrics\\classification.py:1113: UndefinedMetricWarning: F-score is ill-defined and being set to 0.0 due to no predicted samples.\n",
      "  'precision', 'predicted', average, warn_for)\n",
      "C:\\Users\\user\\Anaconda2\\envs\\py35\\lib\\site-packages\\sklearn\\metrics\\classification.py:1113: UndefinedMetricWarning: F-score is ill-defined and being set to 0.0 due to no predicted samples.\n",
      "  'precision', 'predicted', average, warn_for)\n",
      "C:\\Users\\user\\Anaconda2\\envs\\py35\\lib\\site-packages\\sklearn\\metrics\\classification.py:1113: UndefinedMetricWarning: F-score is ill-defined and being set to 0.0 due to no predicted samples.\n",
      "  'precision', 'predicted', average, warn_for)\n",
      "C:\\Users\\user\\Anaconda2\\envs\\py35\\lib\\site-packages\\sklearn\\metrics\\classification.py:1113: UndefinedMetricWarning: F-score is ill-defined and being set to 0.0 due to no predicted samples.\n",
      "  'precision', 'predicted', average, warn_for)\n",
      "C:\\Users\\user\\Anaconda2\\envs\\py35\\lib\\site-packages\\sklearn\\metrics\\classification.py:1113: UndefinedMetricWarning: F-score is ill-defined and being set to 0.0 due to no predicted samples.\n",
      "  'precision', 'predicted', average, warn_for)\n",
      "C:\\Users\\user\\Anaconda2\\envs\\py35\\lib\\site-packages\\sklearn\\metrics\\classification.py:1113: UndefinedMetricWarning: F-score is ill-defined and being set to 0.0 due to no predicted samples.\n",
      "  'precision', 'predicted', average, warn_for)\n",
      "C:\\Users\\user\\Anaconda2\\envs\\py35\\lib\\site-packages\\sklearn\\metrics\\classification.py:1113: UndefinedMetricWarning: F-score is ill-defined and being set to 0.0 due to no predicted samples.\n",
      "  'precision', 'predicted', average, warn_for)\n",
      "C:\\Users\\user\\Anaconda2\\envs\\py35\\lib\\site-packages\\sklearn\\metrics\\classification.py:1113: UndefinedMetricWarning: F-score is ill-defined and being set to 0.0 due to no predicted samples.\n",
      "  'precision', 'predicted', average, warn_for)\n",
      "C:\\Users\\user\\Anaconda2\\envs\\py35\\lib\\site-packages\\sklearn\\metrics\\classification.py:1113: UndefinedMetricWarning: F-score is ill-defined and being set to 0.0 due to no predicted samples.\n",
      "  'precision', 'predicted', average, warn_for)\n",
      "C:\\Users\\user\\Anaconda2\\envs\\py35\\lib\\site-packages\\sklearn\\metrics\\classification.py:1113: UndefinedMetricWarning: F-score is ill-defined and being set to 0.0 due to no predicted samples.\n",
      "  'precision', 'predicted', average, warn_for)\n"
     ]
    },
    {
     "data": {
      "text/plain": [
       "{'mean_fit_time': array([ 0.01380253,  0.00635033,  0.00937557,  0.0256825 ,  0.00947037,\n",
       "         0.01371017,  0.0062499 ,  0.02136092,  0.01270261,  0.00735464,\n",
       "         0.01289883,  0.02538099,  0.01101274,  0.01170783,  0.01180477,\n",
       "         0.02661786]),\n",
       " 'mean_score_time': array([ 0.00755224,  0.00312586,  0.00675302,  0.00627885,  0.00312867,\n",
       "         0.00322433,  0.00675616,  0.00625081,  0.00362558,  0.        ,\n",
       "         0.00665169,  0.00110106,  0.00230269,  0.00220494,  0.00240231,\n",
       "         0.00550475]),\n",
       " 'mean_test_score': array([ 0.        ,  0.        ,  0.        ,  0.        ,  0.24405815,\n",
       "         0.28170839,  0.22840678,  0.        ,  0.51704922,  0.51996986,\n",
       "         0.51685712,  0.        ,  0.51693081,  0.50758057,  0.53245874,  0.        ]),\n",
       " 'mean_train_score': array([ 0.        ,  0.        ,  0.        ,  0.        ,  0.27150568,\n",
       "         0.32314099,  0.2679422 ,  0.        ,  0.54261836,  0.5624594 ,\n",
       "         0.58279322,  1.        ,  0.61923208,  0.67952078,  0.73264639,  1.        ]),\n",
       " 'param_C': masked_array(data = [0.01 0.01 0.01 0.01 0.1 0.1 0.1 0.1 1 1 1 1 10 10 10 10],\n",
       "              mask = [False False False False False False False False False False False False\n",
       "  False False False False],\n",
       "        fill_value = ?),\n",
       " 'param_gamma': masked_array(data = [0.0001 0.0002 0.0003 'auto' 0.0001 0.0002 0.0003 'auto' 0.0001 0.0002\n",
       "  0.0003 'auto' 0.0001 0.0002 0.0003 'auto'],\n",
       "              mask = [False False False False False False False False False False False False\n",
       "  False False False False],\n",
       "        fill_value = ?),\n",
       " 'params': ({'C': 0.01, 'gamma': 0.0001},\n",
       "  {'C': 0.01, 'gamma': 0.0002},\n",
       "  {'C': 0.01, 'gamma': 0.0003},\n",
       "  {'C': 0.01, 'gamma': 'auto'},\n",
       "  {'C': 0.1, 'gamma': 0.0001},\n",
       "  {'C': 0.1, 'gamma': 0.0002},\n",
       "  {'C': 0.1, 'gamma': 0.0003},\n",
       "  {'C': 0.1, 'gamma': 'auto'},\n",
       "  {'C': 1, 'gamma': 0.0001},\n",
       "  {'C': 1, 'gamma': 0.0002},\n",
       "  {'C': 1, 'gamma': 0.0003},\n",
       "  {'C': 1, 'gamma': 'auto'},\n",
       "  {'C': 10, 'gamma': 0.0001},\n",
       "  {'C': 10, 'gamma': 0.0002},\n",
       "  {'C': 10, 'gamma': 0.0003},\n",
       "  {'C': 10, 'gamma': 'auto'}),\n",
       " 'rank_test_score': array([10, 10, 10, 10,  8,  7,  9, 10,  3,  2,  5, 10,  4,  6,  1, 10]),\n",
       " 'split0_test_score': array([ 0.        ,  0.        ,  0.        ,  0.        ,  0.14450867,\n",
       "         0.17142857,  0.14450867,  0.        ,  0.40106952,  0.40106952,\n",
       "         0.37837838,  0.        ,  0.42780749,  0.42105263,  0.41666667,  0.        ]),\n",
       " 'split0_train_score': array([ 0.        ,  0.        ,  0.        ,  0.        ,  0.31073446,\n",
       "         0.32913165,  0.29078014,  0.        ,  0.54901961,  0.5771725 ,\n",
       "         0.59585492,  1.        ,  0.64968153,  0.70342205,  0.76633166,  1.        ]),\n",
       " 'split1_test_score': array([ 0.        ,  0.        ,  0.        ,  0.        ,  0.25714286,\n",
       "         0.25568182,  0.20114943,  0.        ,  0.64676617,  0.66831683,\n",
       "         0.68627451,  0.        ,  0.66502463,  0.64039409,  0.72429907,  0.        ]),\n",
       " 'split1_train_score': array([ 0.        ,  0.        ,  0.        ,  0.        ,  0.18168605,\n",
       "         0.27659574,  0.22270115,  0.        ,  0.51701571,  0.55123217,\n",
       "         0.57567917,  1.        ,  0.5878553 ,  0.66964286,  0.74189526,  1.        ]),\n",
       " 'split2_test_score': array([ 0.        ,  0.        ,  0.        ,  0.        ,  0.23121387,\n",
       "         0.30898876,  0.23121387,  0.        ,  0.546875  ,  0.54123711,\n",
       "         0.53571429,  0.        ,  0.55276382,  0.52238806,  0.54726368,  0.        ]),\n",
       " 'split2_train_score': array([ 0.        ,  0.        ,  0.        ,  0.        ,  0.21582734,\n",
       "         0.29577465,  0.22206304,  0.        ,  0.56129032,  0.56774194,\n",
       "         0.60179257,  1.        ,  0.64086294,  0.6918239 ,  0.73657928,  1.        ]),\n",
       " 'split3_test_score': array([ 0.        ,  0.        ,  0.        ,  0.        ,  0.32967033,\n",
       "         0.35911602,  0.33333333,  0.        ,  0.51282051,  0.53571429,\n",
       "         0.53299492,  0.        ,  0.50505051,  0.52238806,  0.54726368,  0.        ]),\n",
       " 'split3_train_score': array([ 0.        ,  0.        ,  0.        ,  0.        ,  0.4200542 ,\n",
       "         0.4109589 ,  0.35416667,  0.        ,  0.53524804,  0.56420233,\n",
       "         0.57142857,  1.        ,  0.61776062,  0.68527919,  0.7287706 ,  1.        ]),\n",
       " 'split4_test_score': array([ 0.        ,  0.        ,  0.        ,  0.        ,  0.25862069,\n",
       "         0.31428571,  0.23255814,  0.        ,  0.4787234 ,  0.45454545,\n",
       "         0.45212766,  0.        ,  0.43478261,  0.43243243,  0.42780749,  0.        ]),\n",
       " 'split4_train_score': array([ 0.        ,  0.        ,  0.        ,  0.        ,  0.22922636,\n",
       "         0.30324401,  0.25      ,  0.        ,  0.55051813,  0.55194805,\n",
       "         0.56921087,  1.        ,  0.6       ,  0.6474359 ,  0.68965517,  1.        ]),\n",
       " 'std_fit_time': array([ 0.00734743,  0.00757467,  0.00765512,  0.00783958,  0.00752969,\n",
       "         0.00724101,  0.00765454,  0.00574122,  0.00636331,  0.007053  ,\n",
       "         0.01182637,  0.0071891 ,  0.00114367,  0.00068118,  0.00050532,\n",
       "         0.00049025]),\n",
       " 'std_score_time': array([ 0.01510448,  0.00625172,  0.0083089 ,  0.00769012,  0.00625734,\n",
       "         0.00620076,  0.00831297,  0.00765565,  0.00607854,  0.        ,\n",
       "         0.00736532,  0.00220213,  0.00024513,  0.00024287,  0.00020039,\n",
       "         0.00031643]),\n",
       " 'std_test_score': array([ 0.        ,  0.        ,  0.        ,  0.        ,  0.05973766,\n",
       "         0.06435248,  0.06139216,  0.        ,  0.0808878 ,  0.09074797,\n",
       "         0.10272247,  0.        ,  0.08723659,  0.07902289,  0.1110047 ,  0.        ]),\n",
       " 'std_train_score': array([ 0.        ,  0.        ,  0.        ,  0.        ,  0.08551111,\n",
       "         0.04703008,  0.04985941,  0.        ,  0.01524364,  0.00983827,\n",
       "         0.01338528,  0.        ,  0.02345892,  0.01940521,  0.02489567,  0.        ])}"
      ]
     },
     "execution_count": 66,
     "metadata": {},
     "output_type": "execute_result"
    }
   ],
   "source": [
    "g_cv.fit(X_train,y_train)\n",
    "g_cv.cv_results_"
   ]
  },
  {
   "cell_type": "markdown",
   "metadata": {},
   "source": [
    "### Adaptive boosting"
   ]
  },
  {
   "cell_type": "code",
   "execution_count": 67,
   "metadata": {
    "collapsed": true
   },
   "outputs": [],
   "source": [
    "from sklearn.ensemble import AdaBoostClassifier"
   ]
  },
  {
   "cell_type": "code",
   "execution_count": 76,
   "metadata": {
    "collapsed": true
   },
   "outputs": [],
   "source": [
    "adam=AdaBoostClassifier(random_state=0)\n",
    "params={'n_estimators':[20,30,40,50],'learning_rate':[0.01,1,2]}\n",
    "g_cv=GridSearchCV(adam,param_grid=params,cv=5,scoring=fbeta_scorer)"
   ]
  },
  {
   "cell_type": "code",
   "execution_count": 77,
   "metadata": {
    "scrolled": true
   },
   "outputs": [
    {
     "name": "stderr",
     "output_type": "stream",
     "text": [
      "C:\\Users\\user\\Anaconda2\\envs\\py35\\lib\\site-packages\\sklearn\\metrics\\classification.py:1113: UndefinedMetricWarning: F-score is ill-defined and being set to 0.0 due to no predicted samples.\n",
      "  'precision', 'predicted', average, warn_for)\n",
      "C:\\Users\\user\\Anaconda2\\envs\\py35\\lib\\site-packages\\sklearn\\metrics\\classification.py:1113: UndefinedMetricWarning: F-score is ill-defined and being set to 0.0 due to no predicted samples.\n",
      "  'precision', 'predicted', average, warn_for)\n",
      "C:\\Users\\user\\Anaconda2\\envs\\py35\\lib\\site-packages\\sklearn\\metrics\\classification.py:1113: UndefinedMetricWarning: F-score is ill-defined and being set to 0.0 due to no predicted samples.\n",
      "  'precision', 'predicted', average, warn_for)\n",
      "C:\\Users\\user\\Anaconda2\\envs\\py35\\lib\\site-packages\\sklearn\\metrics\\classification.py:1113: UndefinedMetricWarning: F-score is ill-defined and being set to 0.0 due to no predicted samples.\n",
      "  'precision', 'predicted', average, warn_for)\n"
     ]
    },
    {
     "data": {
      "text/plain": [
       "{'mean_fit_time': array([ 0.04193621,  0.0696393 ,  0.08337274,  0.13447881,  0.04132915,\n",
       "         0.07585707,  0.08569345,  0.10247254,  0.04143248,  0.07344551,\n",
       "         0.0933322 ,  0.1086411 ]),\n",
       " 'mean_score_time': array([ 0.00675921,  0.00957704,  0.00581026,  0.01185412,  0.00340247,\n",
       "         0.00765443,  0.00330224,  0.0068047 ,  0.00350251,  0.00449958,\n",
       "         0.01165924,  0.00642734]),\n",
       " 'mean_test_score': array([ 0.48726333,  0.48726333,  0.48177788,  0.46841062,  0.60310766,\n",
       "         0.58538387,  0.58180248,  0.55349936,  0.32613231,  0.32613231,\n",
       "         0.32613231,  0.25961587]),\n",
       " 'mean_train_score': array([ 0.53562723,  0.53562723,  0.52306531,  0.51905257,  0.69188821,\n",
       "         0.71595319,  0.72401601,  0.72864134,  0.31499811,  0.31499811,\n",
       "         0.31499811,  0.2560434 ]),\n",
       " 'param_learning_rate': masked_array(data = [0.01 0.01 0.01 0.01 1 1 1 1 2 2 2 2],\n",
       "              mask = [False False False False False False False False False False False False],\n",
       "        fill_value = ?),\n",
       " 'param_n_estimators': masked_array(data = [20 30 40 50 20 30 40 50 20 30 40 50],\n",
       "              mask = [False False False False False False False False False False False False],\n",
       "        fill_value = ?),\n",
       " 'params': ({'learning_rate': 0.01, 'n_estimators': 20},\n",
       "  {'learning_rate': 0.01, 'n_estimators': 30},\n",
       "  {'learning_rate': 0.01, 'n_estimators': 40},\n",
       "  {'learning_rate': 0.01, 'n_estimators': 50},\n",
       "  {'learning_rate': 1, 'n_estimators': 20},\n",
       "  {'learning_rate': 1, 'n_estimators': 30},\n",
       "  {'learning_rate': 1, 'n_estimators': 40},\n",
       "  {'learning_rate': 1, 'n_estimators': 50},\n",
       "  {'learning_rate': 2, 'n_estimators': 20},\n",
       "  {'learning_rate': 2, 'n_estimators': 30},\n",
       "  {'learning_rate': 2, 'n_estimators': 40},\n",
       "  {'learning_rate': 2, 'n_estimators': 50}),\n",
       " 'rank_test_score': array([ 5,  5,  7,  8,  1,  2,  3,  4,  9,  9,  9, 12]),\n",
       " 'split0_test_score': array([ 0.25139665,  0.25139665,  0.25139665,  0.25139665,  0.51813472,\n",
       "         0.41884817,  0.46632124,  0.49222798,  0.        ,  0.        ,\n",
       "         0.        ,  0.        ]),\n",
       " 'split0_train_score': array([ 0.44776119,  0.44776119,  0.44776119,  0.44776119,  0.70890841,\n",
       "         0.70536829,  0.72418136,  0.72772898,  0.        ,  0.        ,\n",
       "         0.        ,  0.        ]),\n",
       " 'split1_test_score': array([ 0.54123711,  0.54123711,  0.54123711,  0.54404145,  0.74519231,\n",
       "         0.75829384,  0.74519231,  0.72115385,  0.73476703,  0.73476703,\n",
       "         0.73476703,  0.40160643]),\n",
       " 'split1_train_score': array([ 0.49277267,  0.49277267,  0.49277267,  0.49407115,  0.6778607 ,\n",
       "         0.69925743,  0.71251549,  0.71871128,  0.73595004,  0.73595004,\n",
       "         0.73595004,  0.44117647]),\n",
       " 'split2_test_score': array([ 0.68493151,  0.68493151,  0.65853659,  0.6372549 ,  0.62801932,\n",
       "         0.66666667,  0.6097561 ,  0.53658537,  0.20547945,  0.20547945,\n",
       "         0.20547945,  0.20547945]),\n",
       " 'split2_train_score': array([ 0.66350711,  0.66350711,  0.63354037,  0.62030075,  0.67331671,\n",
       "         0.69050555,  0.70807453,  0.71875   ,  0.2510917 ,  0.2510917 ,\n",
       "         0.2510917 ,  0.2510917 ]),\n",
       " 'split3_test_score': array([ 0.42780749,  0.42780749,  0.42780749,  0.40322581,  0.60679612,\n",
       "         0.56372549,  0.54187192,  0.54187192,  0.28508772,  0.28508772,\n",
       "         0.28508772,  0.28508772]),\n",
       " 'split3_train_score': array([ 0.40466392,  0.40466392,  0.40466392,  0.40577717,  0.69738481,\n",
       "         0.75367647,  0.74074074,  0.74691358,  0.30987395,  0.30987395,\n",
       "         0.30987395,  0.30987395]),\n",
       " 'split4_test_score': array([ 0.53299492,  0.53299492,  0.53191489,  0.50802139,  0.51813472,\n",
       "         0.52083333,  0.546875  ,  0.47619048,  0.40816327,  0.40816327,\n",
       "         0.40816327,  0.40816327]),\n",
       " 'split4_train_score': array([ 0.66943128,  0.66943128,  0.63658838,  0.62735257,  0.70197044,\n",
       "         0.73095823,  0.7345679 ,  0.73110285,  0.27807487,  0.27807487,\n",
       "         0.27807487,  0.27807487]),\n",
       " 'std_fit_time': array([ 0.01483723,  0.01411904,  0.00347909,  0.03234509,  0.0002453 ,\n",
       "         0.02841944,  0.01125385,  0.00115238,  0.00037098,  0.00899549,\n",
       "         0.01723698,  0.0052221 ]),\n",
       " 'std_score_time': array([  8.27983144e-03,   7.82818360e-03,   3.99084946e-03,\n",
       "          7.73536945e-03,   2.00152816e-04,   7.75616600e-03,\n",
       "          2.69626798e-03,   2.45184316e-04,   3.16506518e-04,\n",
       "          6.76638480e-06,   4.83009502e-03,   6.00079987e-03]),\n",
       " 'std_test_score': array([ 0.14390902,  0.14390902,  0.13680633,  0.13221125,  0.08398155,\n",
       "         0.11746993,  0.09345368,  0.0874372 ,  0.24360801,  0.24360801,\n",
       "         0.24360801,  0.15072899]),\n",
       " 'std_train_score': array([ 0.11042203,  0.11042203,  0.09560279,  0.09001992,  0.01387965,\n",
       "         0.02318003,  0.0124698 ,  0.01036543,  0.23744387,  0.23744387,\n",
       "         0.23744387,  0.1436942 ])}"
      ]
     },
     "execution_count": 77,
     "metadata": {},
     "output_type": "execute_result"
    }
   ],
   "source": [
    "g_cv.fit(X_train,y_train)\n",
    "g_cv.cv_results_"
   ]
  },
  {
   "cell_type": "code",
   "execution_count": 78,
   "metadata": {},
   "outputs": [
    {
     "data": {
      "text/plain": [
       "AdaBoostClassifier(algorithm='SAMME.R', base_estimator=None, learning_rate=1,\n",
       "          n_estimators=20, random_state=0)"
      ]
     },
     "execution_count": 78,
     "metadata": {},
     "output_type": "execute_result"
    }
   ],
   "source": [
    "g_cv.best_estimator_"
   ]
  },
  {
   "cell_type": "code",
   "execution_count": 75,
   "metadata": {},
   "outputs": [
    {
     "data": {
      "text/plain": [
       "0.58538387200746234"
      ]
     },
     "execution_count": 75,
     "metadata": {},
     "output_type": "execute_result"
    }
   ],
   "source": [
    "g_cv.best_score_"
   ]
  },
  {
   "cell_type": "markdown",
   "metadata": {},
   "source": [
    "### Decision tree classifier"
   ]
  },
  {
   "cell_type": "code",
   "execution_count": 79,
   "metadata": {
    "collapsed": true
   },
   "outputs": [],
   "source": [
    "from sklearn.tree import DecisionTreeClassifier"
   ]
  },
  {
   "cell_type": "code",
   "execution_count": 81,
   "metadata": {},
   "outputs": [],
   "source": [
    "dtm=DecisionTreeClassifier(random_state=0)\n",
    "params={'max_depth':[2,4,6,8,10]}\n",
    "g_cv=GridSearchCV(dtm,param_grid=params,cv=5,scoring=fbeta_scorer)"
   ]
  },
  {
   "cell_type": "code",
   "execution_count": 82,
   "metadata": {},
   "outputs": [
    {
     "data": {
      "text/plain": [
       "{'mean_fit_time': array([ 0.0063518 ,  0.003125  ,  0.00665097,  0.0064517 ,  0.0062501 ]),\n",
       " 'mean_score_time': array([ 0.0004003 ,  0.        ,  0.00020018,  0.        ,  0.        ]),\n",
       " 'mean_test_score': array([ 0.48856556,  0.59540388,  0.50563803,  0.53082876,  0.54098354]),\n",
       " 'mean_train_score': array([ 0.56168665,  0.71383738,  0.77120823,  0.89946104,  0.95644384]),\n",
       " 'param_max_depth': masked_array(data = [2 4 6 8 10],\n",
       "              mask = [False False False False False],\n",
       "        fill_value = ?),\n",
       " 'params': ({'max_depth': 2},\n",
       "  {'max_depth': 4},\n",
       "  {'max_depth': 6},\n",
       "  {'max_depth': 8},\n",
       "  {'max_depth': 10}),\n",
       " 'rank_test_score': array([5, 1, 4, 3, 2]),\n",
       " 'split0_test_score': array([ 0.17142857,  0.6372549 ,  0.36649215,  0.425     ,  0.48780488]),\n",
       " 'split0_train_score': array([ 0.42068966,  0.75301205,  0.67232376,  0.84480601,  0.91925466]),\n",
       " 'split1_test_score': array([ 0.54123711,  0.63414634,  0.55      ,  0.58252427,  0.56097561]),\n",
       " 'split1_train_score': array([ 0.49277267,  0.66958698,  0.75126263,  0.89435774,  0.96291866]),\n",
       " 'split2_test_score': array([ 0.64285714,  0.54726368,  0.60747664,  0.56603774,  0.54761905]),\n",
       " 'split2_train_score': array([ 0.65773447,  0.63225806,  0.78720787,  0.89570552,  0.96224117]),\n",
       " 'split3_test_score': array([ 0.56650246,  0.56097561,  0.49261084,  0.51219512,  0.53398058]),\n",
       " 'split3_train_score': array([ 0.61381074,  0.7345679 ,  0.79974811,  0.93023256,  0.97931873]),\n",
       " 'split4_test_score': array([ 0.52356021,  0.59701493,  0.51282051,  0.56930693,  0.575     ]),\n",
       " 'split4_train_score': array([ 0.62342569,  0.7797619 ,  0.84549878,  0.93220339,  0.95848596]),\n",
       " 'std_fit_time': array([ 0.007781  ,  0.00625   ,  0.00817036,  0.00750208,  0.00765477]),\n",
       " 'std_score_time': array([ 0.00080061,  0.        ,  0.00040035,  0.        ,  0.        ]),\n",
       " 'std_test_score': array([ 0.16437425,  0.03677319,  0.08004325,  0.05832224,  0.02998206]),\n",
       " 'std_train_score': array([ 0.08987002,  0.05463284,  0.05790607,  0.03176875,  0.01992987])}"
      ]
     },
     "execution_count": 82,
     "metadata": {},
     "output_type": "execute_result"
    }
   ],
   "source": [
    "g_cv.fit(X_train,y_train)\n",
    "g_cv.cv_results_"
   ]
  },
  {
   "cell_type": "code",
   "execution_count": 83,
   "metadata": {},
   "outputs": [
    {
     "name": "stdout",
     "output_type": "stream",
     "text": [
      "training score:0.717703349282\n",
      "test score:0.598705501618\n"
     ]
    }
   ],
   "source": [
    "dtm_best=g_cv.best_estimator_\n",
    "dtm_best.fit(X_train,y_train)\n",
    "print('training score:'+str(fbeta_score(y_train,dtm_best.predict(X_train),beta=2)))\n",
    "print('test score:'+str(fbeta_score(y_test,dtm_best.predict(X_test),beta=2)))"
   ]
  },
  {
   "cell_type": "code",
   "execution_count": 84,
   "metadata": {},
   "outputs": [
    {
     "data": {
      "text/plain": [
       "array([[106,  24],\n",
       "       [ 25,  37]])"
      ]
     },
     "execution_count": 84,
     "metadata": {},
     "output_type": "execute_result"
    }
   ],
   "source": [
    "confusion_matrix(y_test,dtm_best.predict(X_test))"
   ]
  },
  {
   "cell_type": "markdown",
   "metadata": {},
   "source": []
  }
 ],
 "metadata": {
  "kernelspec": {
   "display_name": "Python 3",
   "language": "python",
   "name": "python3"
  },
  "language_info": {
   "codemirror_mode": {
    "name": "ipython",
    "version": 3
   },
   "file_extension": ".py",
   "mimetype": "text/x-python",
   "name": "python",
   "nbconvert_exporter": "python",
   "pygments_lexer": "ipython3",
   "version": "3.5.3"
  }
 },
 "nbformat": 4,
 "nbformat_minor": 2
}
